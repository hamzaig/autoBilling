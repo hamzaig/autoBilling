{
 "cells": [
  {
   "cell_type": "code",
   "execution_count": 5,
   "id": "b04d7ece",
   "metadata": {},
   "outputs": [],
   "source": [
    "import pyttsx3 \n",
    "from PIL import Image \n",
    "import pytesseract  \n",
    "import pyautogui\n",
    "from PIL import Image\n",
    "import xlrd\n",
    "import pandas\n",
    "from ahk import AHK\n",
    "import time\n",
    "pytesseract.pytesseract.tesseract_cmd = r'C:\\\\Program Files\\\\Tesseract-OCR\\\\tesseract' "
   ]
  },
  {
   "cell_type": "code",
   "execution_count": 24,
   "id": "e4b7d1b1",
   "metadata": {},
   "outputs": [
    {
     "name": "stdout",
     "output_type": "stream",
     "text": [
      "no due bill\n",
      "\f",
      "\n"
     ]
    }
   ],
   "source": [
    "time.sleep(2)\n",
    "myScreenshot = pyautogui.screenshot()\n",
    "myScreenshot.save('amount.png')\n",
    "nadraAmount = Image.open('amount.png')\n",
    "nadraAmountCrop = nadraAmount.crop((410, 350, 595, 400))\n",
    "# nadraAmountCrop.show()\n",
    "result = pytesseract.image_to_string(nadraAmountCrop)  \n",
    "print(result)\n"
   ]
  },
  {
   "cell_type": "code",
   "execution_count": 25,
   "id": "9e03a7ac",
   "metadata": {},
   "outputs": [
    {
     "data": {
      "text/plain": [
       "str"
      ]
     },
     "execution_count": 25,
     "metadata": {},
     "output_type": "execute_result"
    }
   ],
   "source": [
    "type(result)"
   ]
  },
  {
   "cell_type": "code",
   "execution_count": 47,
   "id": "ef1cfb65",
   "metadata": {},
   "outputs": [
    {
     "name": "stdout",
     "output_type": "stream",
     "text": [
      "True\n"
     ]
    }
   ],
   "source": [
    "print(result[0] == \"n\")"
   ]
  },
  {
   "cell_type": "code",
   "execution_count": 46,
   "id": "7c55d37b",
   "metadata": {},
   "outputs": [
    {
     "name": "stdout",
     "output_type": "stream",
     "text": [
      "False\n"
     ]
    }
   ],
   "source": [
    "print(result == \"no due bill\")"
   ]
  },
  {
   "cell_type": "code",
   "execution_count": 50,
   "id": "f0ab9e8e",
   "metadata": {},
   "outputs": [],
   "source": [
    "ahk = AHK()\n",
    "ahk.mouse_move(1100,100,speed=1)\n"
   ]
  },
  {
   "cell_type": "code",
   "execution_count": null,
   "id": "aaa59f46",
   "metadata": {},
   "outputs": [],
   "source": []
  }
 ],
 "metadata": {
  "kernelspec": {
   "display_name": "Python 3",
   "language": "python",
   "name": "python3"
  },
  "language_info": {
   "codemirror_mode": {
    "name": "ipython",
    "version": 3
   },
   "file_extension": ".py",
   "mimetype": "text/x-python",
   "name": "python",
   "nbconvert_exporter": "python",
   "pygments_lexer": "ipython3",
   "version": "3.8.8"
  }
 },
 "nbformat": 4,
 "nbformat_minor": 5
}

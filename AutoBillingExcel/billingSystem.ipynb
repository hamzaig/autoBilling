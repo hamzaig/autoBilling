{
 "cells": [
  {
   "cell_type": "code",
   "execution_count": 1,
   "id": "3df5d0e3",
   "metadata": {},
   "outputs": [],
   "source": [
    "import pyttsx3 \n",
    "from PIL import Image \n",
    "import pytesseract  \n",
    "import pyautogui\n",
    "from PIL import Image\n",
    "import xlrd\n",
    "import pandas\n",
    "from ahk import AHK\n",
    "import time\n",
    "pytesseract.pytesseract.tesseract_cmd = r'C:\\\\Program Files\\\\Tesseract-OCR\\\\tesseract' "
   ]
  },
  {
   "cell_type": "code",
   "execution_count": 2,
   "id": "b5f52ba2",
   "metadata": {},
   "outputs": [
    {
     "name": "stdout",
     "output_type": "stream",
     "text": [
      "<bound method NDFrame.head of                  Con   Amount\n",
      "0    06111320265400u    124.0\n",
      "1    05111320244100u    240.0\n",
      "2                NaN      NaN\n",
      "3                NaN      NaN\n",
      "4                NaN      NaN\n",
      "..               ...      ...\n",
      "637              NaN      NaN\n",
      "638              NaN      NaN\n",
      "639              NaN      NaN\n",
      "640              NaN      NaN\n",
      "641  03111320121605u  25089.0\n",
      "\n",
      "[642 rows x 2 columns]>\n"
     ]
    }
   ],
   "source": [
    "bills = pandas.read_excel('bill.xlsx', engine='openpyxl')\n",
    "print(bills.head)"
   ]
  },
  {
   "cell_type": "code",
   "execution_count": 3,
   "id": "e0fc03f3",
   "metadata": {},
   "outputs": [],
   "source": [
    "def total_balance():\n",
    "    myScreenshot = pyautogui.screenshot()\n",
    "    myScreenshot.save('totalBalance.png')\n",
    "    nadraAmount = Image.open('totalBalance.png')\n",
    "    nadraAmountCrop = nadraAmount.crop((480, 246, 650, 288))\n",
    "    nadraAmountCrop.show()\n",
    "    nadraAmountCrop.save(\"amount.png\", 'JPEG')\n",
    "    result = pytesseract.image_to_string(nadraAmountCrop)  \n",
    "    print(result)\n",
    "    nadraAmountInt = int(float(result.replace(',',\"\")))"
   ]
  },
  {
   "cell_type": "code",
   "execution_count": 4,
   "id": "be66bab2",
   "metadata": {},
   "outputs": [],
   "source": [
    "# time.sleep(3)\n",
    "# total_balance()"
   ]
  },
  {
   "cell_type": "code",
   "execution_count": 5,
   "id": "905233cf",
   "metadata": {},
   "outputs": [],
   "source": [
    "def my_function(bill,billAmount):\n",
    "    # ahk.mouse_position(866,617)\n",
    "    # ahk.mouse_move(900,700,speed=15)\n",
    "    # time.sleep(5)\n",
    "    ahk = AHK()\n",
    "    ahk.send(bill);\n",
    "    ahk.key_press(\"tab\")\n",
    "    ahk.key_press(\"tab\")\n",
    "    ahk.key_press(\"u\")\n",
    "    ahk.key_press(\"tab\")\n",
    "    ahk.send(\"03327229422\");\n",
    "    ahk.key_press(\"tab\")\n",
    "    ahk.key_press(\"space\")\n",
    "    ahk.key_press(\"tab\")\n",
    "    ahk.key_press(\"tab\")\n",
    "    ahk.key_press(\"space\")\n",
    "    time.sleep(6)\n",
    "    myScreenshot = pyautogui.screenshot()\n",
    "    myScreenshot.save('amount.png')\n",
    "    nadraAmount = Image.open('amount.png')\n",
    "    nadraAmountCrop = nadraAmount.crop((480, 246, 650, 288))\n",
    "#     nadraAmountCrop.show()\n",
    "    nadraAmountCrop.save(\"amount.png\", 'JPEG')\n",
    "    result = pytesseract.image_to_string(nadraAmountCrop)  \n",
    "    print(result)\n",
    "    nadraAmountInt = int(float(result.replace(',',\"\")))\n",
    "    if nadraAmountInt == billAmount:\n",
    "        ahk.mouse_move(1030,200,speed=1)\n",
    "        ahk.click()\n",
    "        ahk.mouse_move(1100,100,speed=1)\n",
    "        ahk.click()\n",
    "        ahk.mouse_move(830,300,speed=5)\n",
    "        ahk.click()\n",
    "        ahk.click()\n",
    "        ahk.click()\n",
    "        print(billAmount)\n",
    "    else:\n",
    "        print(bill)"
   ]
  },
  {
   "cell_type": "code",
   "execution_count": null,
   "id": "41f06b2b",
   "metadata": {
    "scrolled": false
   },
   "outputs": [
    {
     "name": "stdout",
     "output_type": "stream",
     "text": [
      "124.00\n",
      "\f",
      "\n",
      "124.0\n"
     ]
    }
   ],
   "source": [
    "for row in bills.iterrows():\n",
    "    my_function(row[1][0], row[1][1])"
   ]
  },
  {
   "cell_type": "code",
   "execution_count": null,
   "id": "a1e6f8c7",
   "metadata": {},
   "outputs": [],
   "source": [
    "# ahk.mouse_move(830,300,speed=1)"
   ]
  },
  {
   "cell_type": "code",
   "execution_count": null,
   "id": "3aad4108",
   "metadata": {},
   "outputs": [],
   "source": [
    "ahk = AHK()\n",
    "ahk.mouse_move(1100,100,speed=1)"
   ]
  },
  {
   "cell_type": "markdown",
   "id": "4159d00a",
   "metadata": {},
   "source": [
    "## "
   ]
  }
 ],
 "metadata": {
  "kernelspec": {
   "display_name": "Python 3",
   "language": "python",
   "name": "python3"
  },
  "language_info": {
   "codemirror_mode": {
    "name": "ipython",
    "version": 3
   },
   "file_extension": ".py",
   "mimetype": "text/x-python",
   "name": "python",
   "nbconvert_exporter": "python",
   "pygments_lexer": "ipython3",
   "version": "3.8.8"
  }
 },
 "nbformat": 4,
 "nbformat_minor": 5
}

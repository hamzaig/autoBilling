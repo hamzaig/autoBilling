{
 "cells": [
  {
   "cell_type": "code",
   "execution_count": 78,
   "id": "24b62e63",
   "metadata": {},
   "outputs": [
    {
     "name": "stdout",
     "output_type": "stream",
     "text": [
      "<PIL.JpegImagePlugin.JpegImageFile image mode=RGB size=170x42 at 0x29F46566490>\n",
      " \n",
      "\f",
      "\n",
      " \n",
      "\f",
      "\n",
      "<class 'str'>\n"
     ]
    },
    {
     "ename": "ValueError",
     "evalue": "could not convert string to float: ''",
     "output_type": "error",
     "traceback": [
      "\u001b[1;31m---------------------------------------------------------------------------\u001b[0m",
      "\u001b[1;31mValueError\u001b[0m                                Traceback (most recent call last)",
      "\u001b[1;32m<ipython-input-78-1ae44ffad2b7>\u001b[0m in \u001b[0;36m<module>\u001b[1;34m\u001b[0m\n\u001b[0;32m     50\u001b[0m \u001b[1;31m# print(x)\u001b[0m\u001b[1;33m\u001b[0m\u001b[1;33m\u001b[0m\u001b[1;33m\u001b[0m\u001b[0m\n\u001b[0;32m     51\u001b[0m \u001b[0my\u001b[0m \u001b[1;33m=\u001b[0m \u001b[0mresult\u001b[0m\u001b[1;33m.\u001b[0m\u001b[0mreplace\u001b[0m\u001b[1;33m(\u001b[0m\u001b[1;34m','\u001b[0m\u001b[1;33m,\u001b[0m \u001b[1;34m''\u001b[0m\u001b[1;33m)\u001b[0m\u001b[1;33m\u001b[0m\u001b[1;33m\u001b[0m\u001b[0m\n\u001b[1;32m---> 52\u001b[1;33m \u001b[0my\u001b[0m \u001b[1;33m=\u001b[0m \u001b[0mint\u001b[0m\u001b[1;33m(\u001b[0m\u001b[0mfloat\u001b[0m\u001b[1;33m(\u001b[0m\u001b[0my\u001b[0m\u001b[1;33m)\u001b[0m\u001b[1;33m)\u001b[0m\u001b[1;33m\u001b[0m\u001b[1;33m\u001b[0m\u001b[0m\n\u001b[0m\u001b[0;32m     53\u001b[0m \u001b[0mprint\u001b[0m\u001b[1;33m(\u001b[0m\u001b[0my\u001b[0m\u001b[1;33m+\u001b[0m\u001b[1;36m1\u001b[0m\u001b[1;33m)\u001b[0m\u001b[1;33m\u001b[0m\u001b[1;33m\u001b[0m\u001b[0m\n",
      "\u001b[1;31mValueError\u001b[0m: could not convert string to float: ''"
     ]
    }
   ],
   "source": [
    "import pyautogui\n",
    "from PIL import Image\n",
    "\n",
    "myScreenshot = pyautogui.screenshot()\n",
    "myScreenshot.save(r'C:\\\\screenshot_1.png')\n",
    "\n",
    "im = Image.open(r'C:\\\\screenshot_1.png')\n",
    "\n",
    "# print(im.size)\n",
    "\n",
    "im1 = im.crop((480, 246, 650, 288))\n",
    " \n",
    "im1.save(\"amount.png\", 'JPEG')\n",
    "# Shows the image in image viewer\n",
    "# im1.show()\n",
    "\n",
    "# import the following libraries\n",
    "# will convert the image to text string\n",
    "import pytesseract      \n",
    "  \n",
    "# adds image processing capabilities\n",
    "from PIL import Image    \n",
    "  \n",
    " # converts the text to speech  \n",
    "import pyttsx3           \n",
    "  \n",
    "#translates into the mentioned language\n",
    "# from googletrans import Translator      \n",
    "  \n",
    " # opening an image from the source path\n",
    "img = Image.open('amount.png')     \n",
    "  \n",
    "# describes image format in the output\n",
    "print(img)                          \n",
    "# path where the tesseract module is installed\n",
    "pytesseract.pytesseract.tesseract_cmd = r'C:\\\\Program Files\\\\Tesseract-OCR\\\\tesseract' \n",
    "# converts the image to result and saves it into result variable\n",
    "result = pytesseract.image_to_string(img)   \n",
    "# write text in a text file and save it to source path   \n",
    "with open('abc.txt',mode ='w') as file:     \n",
    "      \n",
    "                 file.write(result)\n",
    "                 print(result)\n",
    "print(result)\n",
    "print(type(result))\n",
    "# x = int(result) * 2\n",
    "# print(x)\n",
    "y = result.replace(',', '')\n",
    "y = int(float(y))\n",
    "print(y+1)"
   ]
  },
  {
   "cell_type": "code",
   "execution_count": null,
   "id": "a800eea8",
   "metadata": {},
   "outputs": [],
   "source": []
  }
 ],
 "metadata": {
  "kernelspec": {
   "display_name": "Python 3",
   "language": "python",
   "name": "python3"
  },
  "language_info": {
   "codemirror_mode": {
    "name": "ipython",
    "version": 3
   },
   "file_extension": ".py",
   "mimetype": "text/x-python",
   "name": "python",
   "nbconvert_exporter": "python",
   "pygments_lexer": "ipython3",
   "version": "3.8.8"
  }
 },
 "nbformat": 4,
 "nbformat_minor": 5
}

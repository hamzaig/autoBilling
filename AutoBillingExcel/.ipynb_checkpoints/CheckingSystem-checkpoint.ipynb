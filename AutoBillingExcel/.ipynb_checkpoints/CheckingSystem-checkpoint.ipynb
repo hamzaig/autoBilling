{
 "cells": [
  {
   "cell_type": "code",
   "execution_count": 1,
   "id": "3df5d0e3",
   "metadata": {},
   "outputs": [],
   "source": [
    "import pyttsx3 \n",
    "from PIL import Image \n",
    "import pytesseract  \n",
    "import pyautogui\n",
    "from PIL import Image\n",
    "import xlrd\n",
    "import pandas\n",
    "from ahk import AHK\n",
    "import time\n",
    "pytesseract.pytesseract.tesseract_cmd = r'C:\\\\Program Files\\\\Tesseract-OCR\\\\tesseract' "
   ]
  },
  {
   "cell_type": "code",
   "execution_count": 2,
   "id": "b5f52ba2",
   "metadata": {},
   "outputs": [
    {
     "name": "stdout",
     "output_type": "stream",
     "text": [
      "<bound method NDFrame.head of                  Con  Amount\n",
      "0    02111320053408u    2040\n",
      "1    03111320111903u    3552\n",
      "2    02111410104900u     688\n",
      "3    03111320105400u     928\n",
      "4    03111320103101u    6152\n",
      "..               ...     ...\n",
      "637  03111320081007u   20278\n",
      "638  03111320100400u   21021\n",
      "639  03111320109002u   21956\n",
      "640  03111320120004u   23474\n",
      "641  03111320121605u   25089\n",
      "\n",
      "[642 rows x 2 columns]>\n"
     ]
    }
   ],
   "source": [
    "bills = pandas.read_excel('bill.xlsx', engine='openpyxl')\n",
    "print(bills.head)"
   ]
  },
  {
   "cell_type": "code",
   "execution_count": 3,
   "id": "e0fc03f3",
   "metadata": {},
   "outputs": [],
   "source": [
    "def total_balance():\n",
    "    myScreenshot = pyautogui.screenshot()\n",
    "    myScreenshot.save('totalBalance.png')\n",
    "    nadraAmount = Image.open('totalBalance.png')\n",
    "    nadraAmountCrop = nadraAmount.crop((480, 246, 650, 288))\n",
    "    nadraAmountCrop.show()\n",
    "    nadraAmountCrop.save(\"amount.png\", 'JPEG')\n",
    "    result = pytesseract.image_to_string(nadraAmountCrop)  \n",
    "    print(result)\n",
    "    nadraAmountInt = int(float(result.replace(',',\"\")))"
   ]
  },
  {
   "cell_type": "code",
   "execution_count": 4,
   "id": "be66bab2",
   "metadata": {},
   "outputs": [],
   "source": [
    "# time.sleep(3)\n",
    "# total_balance()"
   ]
  },
  {
   "cell_type": "code",
   "execution_count": 5,
   "id": "905233cf",
   "metadata": {},
   "outputs": [],
   "source": [
    "def my_function(bill,billAmount):\n",
    "    # ahk.mouse_position(866,617)\n",
    "    # ahk.mouse_move(900,700,speed=15)\n",
    "    # time.sleep(5)\n",
    "    ahk = AHK()\n",
    "    ahk.send(bill);\n",
    "    ahk.key_press(\"tab\")\n",
    "    ahk.key_press(\"tab\")\n",
    "    ahk.key_press(\"u\")\n",
    "    ahk.key_press(\"tab\")\n",
    "    ahk.send(\"03327229422\");\n",
    "    ahk.key_press(\"tab\")\n",
    "    ahk.key_press(\"space\")\n",
    "    ahk.key_press(\"tab\")\n",
    "    ahk.key_press(\"tab\")\n",
    "    ahk.key_press(\"space\")\n",
    "    time.sleep(2)\n",
    "#     myScreenshot = pyautogui.screenshot()\n",
    "#     myScreenshot.save('amount.png')\n",
    "#     nadraAmount = Image.open('amount.png')\n",
    "#     nadraAmountCrop = nadraAmount.crop((480, 246, 650, 288))\n",
    "# #     nadraAmountCrop.show()\n",
    "#     nadraAmountCrop.save(\"amount.png\", 'JPEG')\n",
    "#     result = pytesseract.image_to_string(nadraAmountCrop)  \n",
    "#     print(result)\n",
    "#     nadraAmountInt = int(float(result.replace(',',\"\")))\n",
    "    if 5 == 5:\n",
    "        ahk.mouse_move(1030,200,speed=1)\n",
    "        ahk.click()\n",
    "        ahk.mouse_move(1100,100,speed=1)\n",
    "        ahk.click()\n",
    "        ahk.mouse_move(830,300,speed=5)\n",
    "        ahk.click()\n",
    "        ahk.click()\n",
    "        ahk.click()"
   ]
  },
  {
   "cell_type": "code",
   "execution_count": 6,
   "id": "41f06b2b",
   "metadata": {
    "scrolled": false
   },
   "outputs": [
    {
     "ename": "KeyboardInterrupt",
     "evalue": "",
     "output_type": "error",
     "traceback": [
      "\u001b[1;31m---------------------------------------------------------------------------\u001b[0m",
      "\u001b[1;31mKeyboardInterrupt\u001b[0m                         Traceback (most recent call last)",
      "\u001b[1;32m<ipython-input-6-2f6a5859cf49>\u001b[0m in \u001b[0;36m<module>\u001b[1;34m\u001b[0m\n\u001b[0;32m      1\u001b[0m \u001b[1;32mfor\u001b[0m \u001b[0mrow\u001b[0m \u001b[1;32min\u001b[0m \u001b[0mbills\u001b[0m\u001b[1;33m.\u001b[0m\u001b[0miterrows\u001b[0m\u001b[1;33m(\u001b[0m\u001b[1;33m)\u001b[0m\u001b[1;33m:\u001b[0m\u001b[1;33m\u001b[0m\u001b[1;33m\u001b[0m\u001b[0m\n\u001b[1;32m----> 2\u001b[1;33m     \u001b[0mmy_function\u001b[0m\u001b[1;33m(\u001b[0m\u001b[0mrow\u001b[0m\u001b[1;33m[\u001b[0m\u001b[1;36m1\u001b[0m\u001b[1;33m]\u001b[0m\u001b[1;33m[\u001b[0m\u001b[1;36m0\u001b[0m\u001b[1;33m]\u001b[0m\u001b[1;33m,\u001b[0m \u001b[0mrow\u001b[0m\u001b[1;33m[\u001b[0m\u001b[1;36m1\u001b[0m\u001b[1;33m]\u001b[0m\u001b[1;33m[\u001b[0m\u001b[1;36m1\u001b[0m\u001b[1;33m]\u001b[0m\u001b[1;33m)\u001b[0m\u001b[1;33m\u001b[0m\u001b[1;33m\u001b[0m\u001b[0m\n\u001b[0m",
      "\u001b[1;32m<ipython-input-5-76e31ef9ca1d>\u001b[0m in \u001b[0;36mmy_function\u001b[1;34m(bill, billAmount)\u001b[0m\n\u001b[0;32m     15\u001b[0m     \u001b[0mahk\u001b[0m\u001b[1;33m.\u001b[0m\u001b[0mkey_press\u001b[0m\u001b[1;33m(\u001b[0m\u001b[1;34m\"tab\"\u001b[0m\u001b[1;33m)\u001b[0m\u001b[1;33m\u001b[0m\u001b[1;33m\u001b[0m\u001b[0m\n\u001b[0;32m     16\u001b[0m     \u001b[0mahk\u001b[0m\u001b[1;33m.\u001b[0m\u001b[0mkey_press\u001b[0m\u001b[1;33m(\u001b[0m\u001b[1;34m\"space\"\u001b[0m\u001b[1;33m)\u001b[0m\u001b[1;33m\u001b[0m\u001b[1;33m\u001b[0m\u001b[0m\n\u001b[1;32m---> 17\u001b[1;33m     \u001b[0mtime\u001b[0m\u001b[1;33m.\u001b[0m\u001b[0msleep\u001b[0m\u001b[1;33m(\u001b[0m\u001b[1;36m2\u001b[0m\u001b[1;33m)\u001b[0m\u001b[1;33m\u001b[0m\u001b[1;33m\u001b[0m\u001b[0m\n\u001b[0m\u001b[0;32m     18\u001b[0m \u001b[1;31m#     myScreenshot = pyautogui.screenshot()\u001b[0m\u001b[1;33m\u001b[0m\u001b[1;33m\u001b[0m\u001b[1;33m\u001b[0m\u001b[0m\n\u001b[0;32m     19\u001b[0m \u001b[1;31m#     myScreenshot.save('amount.png')\u001b[0m\u001b[1;33m\u001b[0m\u001b[1;33m\u001b[0m\u001b[1;33m\u001b[0m\u001b[0m\n",
      "\u001b[1;31mKeyboardInterrupt\u001b[0m: "
     ]
    }
   ],
   "source": [
    "for row in bills.iterrows():\n",
    "    my_function(row[1][0], row[1][1])"
   ]
  },
  {
   "cell_type": "code",
   "execution_count": null,
   "id": "a1e6f8c7",
   "metadata": {},
   "outputs": [],
   "source": [
    "# ahk.mouse_move(830,300,speed=1)"
   ]
  },
  {
   "cell_type": "code",
   "execution_count": null,
   "id": "3aad4108",
   "metadata": {},
   "outputs": [],
   "source": [
    "# ahk = AHK()\n",
    "# ahk.mouse_move(1100,100,speed=1)"
   ]
  },
  {
   "cell_type": "markdown",
   "id": "4159d00a",
   "metadata": {},
   "source": [
    "## "
   ]
  },
  {
   "cell_type": "code",
   "execution_count": null,
   "id": "ec1cff23",
   "metadata": {},
   "outputs": [],
   "source": [
    "    "
   ]
  }
 ],
 "metadata": {
  "kernelspec": {
   "display_name": "Python 3",
   "language": "python",
   "name": "python3"
  },
  "language_info": {
   "codemirror_mode": {
    "name": "ipython",
    "version": 3
   },
   "file_extension": ".py",
   "mimetype": "text/x-python",
   "name": "python",
   "nbconvert_exporter": "python",
   "pygments_lexer": "ipython3",
   "version": "3.8.8"
  }
 },
 "nbformat": 4,
 "nbformat_minor": 5
}
